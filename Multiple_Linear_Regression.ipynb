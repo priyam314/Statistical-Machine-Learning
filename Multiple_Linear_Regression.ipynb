{
  "nbformat": 4,
  "nbformat_minor": 0,
  "metadata": {
    "colab": {
      "name": "Multiple Linear Regression.ipynb",
      "provenance": [],
      "collapsed_sections": [],
      "authorship_tag": "ABX9TyNWFI6MA3d1DX4amkKuqm+f",
      "include_colab_link": true
    },
    "kernelspec": {
      "name": "python3",
      "display_name": "Python 3"
    }
  },
  "cells": [
    {
      "cell_type": "markdown",
      "metadata": {
        "id": "view-in-github",
        "colab_type": "text"
      },
      "source": [
        "<a href=\"https://colab.research.google.com/github/priyam314/Statistical-Machine-Learning/blob/master/Multiple_Linear_Regression.ipynb\" target=\"_parent\"><img src=\"https://colab.research.google.com/assets/colab-badge.svg\" alt=\"Open In Colab\"/></a>"
      ]
    },
    {
      "cell_type": "markdown",
      "metadata": {
        "id": "i7_cmuYwILFY",
        "colab_type": "text"
      },
      "source": [
        "#Importing all the required libraries"
      ]
    },
    {
      "cell_type": "code",
      "metadata": {
        "id": "9hzuGEWM1Eba",
        "colab_type": "code",
        "colab": {
          "base_uri": "https://localhost:8080/",
          "height": 73
        },
        "outputId": "8eb98df0-9f56-4b0a-fdcb-3a4340d50791"
      },
      "source": [
        "import matplotlib.pyplot as plt\n",
        "import pandas as pd\n",
        "import numpy as np\n",
        "from sklearn.model_selection import KFold,train_test_split\n",
        "from sklearn import linear_model\n",
        "from sklearn.preprocessing import StandardScaler,MaxAbsScaler,MinMaxScaler\n",
        "from sklearn.metrics import r2_score,mean_squared_error\n",
        "import seaborn as sns\n",
        "%matplotlib inline\n",
        " \n"
      ],
      "execution_count": null,
      "outputs": [
        {
          "output_type": "stream",
          "text": [
            "/usr/local/lib/python3.6/dist-packages/statsmodels/tools/_testing.py:19: FutureWarning: pandas.util.testing is deprecated. Use the functions in the public API at pandas.testing instead.\n",
            "  import pandas.util.testing as tm\n"
          ],
          "name": "stderr"
        }
      ]
    },
    {
      "cell_type": "markdown",
      "metadata": {
        "id": "P63OhfKFIXbf",
        "colab_type": "text"
      },
      "source": [
        "#Data Preprocessing\n",
        "* reading csv file\n",
        "* dropping index value column\n",
        "* splitting data\n",
        "* feature scaling\n",
        "\n",
        "\n"
      ]
    },
    {
      "cell_type": "code",
      "metadata": {
        "id": "_jJAzGiHHz0i",
        "colab_type": "code",
        "colab": {}
      },
      "source": [
        "data=pd.read_csv(\"/Salary_Data.csv\")\n",
        "datatypes=dict(data.dtypes)\n",
        "dependentVariable=len(datatypes)-1\n",
        "countIndependentList=[]\n",
        "countIndependent=-1\n",
        "for key in datatypes:\n",
        "  countIndependent+=1\n",
        "  if (datatypes[key]==np.dtype('O')):\n",
        "    key_new=pd.get_dummies(data[key],drop_first=True)\n",
        "    data.drop([key],inplace=True,axis=1)\n",
        "    data=pd.concat([data,key_new],axis=1)\n",
        "    dependentVariable-=1\n",
        "datatypes=dict(data.dtypes)\n",
        "X=data.iloc[:,[i for i in range(len(datatypes)) if i!=dependentVariable]].values\n",
        "Y=data.iloc[:,[dependentVariable]].values\n",
        "train_x,test_x,train_y,test_y=train_test_split(X,Y,test_size=0.2,random_state=42)\n",
        "train_y=train_y.reshape(-1,1)\n",
        "sc=MinMaxScaler()\n",
        "train_x = sc.fit_transform(train_x)\n",
        "train_y=sc.fit_transform(train_y)\n",
        "test_x=sc.fit_transform(test_x)\n",
        "test_y=test_y.reshape(-1,1)\n",
        "test_y=sc.fit_transform(test_y)\n",
        "data_corr=data.corr()\n",
        "# sns.boxplot(train_y[:,0])"
      ],
      "execution_count": null,
      "outputs": []
    },
    {
      "cell_type": "code",
      "metadata": {
        "id": "hpkkZj0RIBGI",
        "colab_type": "code",
        "colab": {
          "base_uri": "https://localhost:8080/",
          "height": 537
        },
        "outputId": "21f5701b-741a-4381-b806-4306189ac2d7"
      },
      "source": [
        "fig, ax = plt.subplots(figsize=(11, 9))# plot heatmap\n",
        "sns.heatmap(data_corr, cmap=\"Blues\", vmin= -2.0, vmax=1,\n",
        "           linewidth=0.1, cbar_kws={\"shrink\": .8},annot=True)\n",
        "plt.show()\n"
      ],
      "execution_count": null,
      "outputs": [
        {
          "output_type": "display_data",
          "data": {
            "image/png": "[encoded data removed]",
            "text/plain": [
              "<Figure size 792x648 with 2 Axes>"
            ]
          },
          "metadata": {
            "tags": [],
            "needs_background": "light"
          }
        }
      ]
    },
    {
      "cell_type": "code",
      "metadata": {
        "id": "rWV4NLWqituf",
        "colab_type": "code",
        "colab": {
          "base_uri": "https://localhost:8080/",
          "height": 144
        },
        "outputId": "37f368d1-98fd-4eb9-e5fd-62688e60f9cb"
      },
      "source": [
        "score=[]\n",
        "\n",
        "cv = KFold(n_splits=10, random_state=42)\n",
        "maxx=0\n",
        "for train_index, test_index in cv.split(train_x):\n",
        "  # for j in range(1,5):\n",
        "  # regrl = linear_model.Lasso(alpha=j/1000.0)\n",
        "  # regrr = linear_model.Ridge(alpha=j/10.0)\n",
        "\n",
        "  # yl=regrl.fit (train_x[train_index], train_y[train_index])\n",
        "  # yr=regrr.fit (train_x[train_index], train_y[train_index])\n",
        "\n",
        "  # print ('Coefficients : ', regr.coef_)\n",
        "  # print ('Intercept: ',regr.intercept_)\n",
        "\n",
        "  # predictionl= regrl.predict(train_x[test_index])\n",
        "  # predictionr= regrr.predict(train_x[test_index])\n",
        "\n",
        "  # train_score_l=regrl.score(train_x[train_index], train_y[train_index])\n",
        "  # train_score_r=regrr.score(train_x[train_index], train_y[train_index])\n",
        "\n",
        "  # test_score_l=regrl.score(train_x[test_index],train_y[test_index])\n",
        "  # test_score_r=regrr.score(train_x[test_index],train_y[test_index])\n",
        "\n",
        "  # print ('Train_Score lasso: ', train_score_l)\n",
        "  # print ('Train_Score ridge: ', train_score_r)\n",
        "\n",
        "  # print ('Test_Score lasso: ', test_score_l)\n",
        "  # print ('Test_Score ridge: ', test_score_r)\n",
        "\n",
        "  # test_prediction_l=regrl.predict(test_x)\n",
        "  # test_prediction_r=regrr.predict(test_x)\n",
        "\n",
        "  # print ('r2 lasso: ',r2_score(test_y,test_prediction_l))\n",
        "  # print ('r2 ridge: ',r2_score(test_y,test_prediction_r))\n",
        "  regr=linear_model.LinearRegression()\n",
        "  y=regr.fit(train_x[train_index], train_y[train_index])\n",
        "  prediction= y.predict(train_x[test_index])\n",
        "  train_score=y.score(train_x[train_index], train_y[train_index])\n",
        "  test_score=y.score(train_x[test_index],train_y[test_index])\n",
        "  test_prediction=y.predict(test_x)\n",
        "  r2_test=r2_score(test_y,test_prediction)\n",
        "  mse_test=mean_squared_error(test_y,test_prediction)\n",
        "\n",
        "  # print ('Train_Score: ', train_score)\n",
        "  # print (\"\")\n",
        "  # print ('Test_Score: ', test_score)\n",
        "  # print (\"\")\n",
        "  # print ('r2 : ',r2_test)  \n",
        "  # print ('MSE : ',mse_test)  \n",
        "  # print (\"\")\n",
        "  # print (\"\")\n",
        "\n",
        "  if (maxx<r2_test):\n",
        "    maxx=r2_test\n",
        "    intercept=y.intercept_\n",
        "    coef=y.coef_\n",
        "print('training score:',train_score,'\\n','r2_score test set: ',maxx,'\\n','intercept: ',intercept,'\\n','coeficient: ',coef)"
      ],
      "execution_count": null,
      "outputs": [
        {
          "output_type": "stream",
          "text": [
            "training score: 0.9748974892047155 \n",
            " r2_score test set:  0.9052123336882255 \n",
            " intercept:  [-0.01601161] \n",
            " coeficient:  [[1.04102841]]\n"
          ],
          "name": "stdout"
        },
        {
          "output_type": "stream",
          "text": [
            "/usr/local/lib/python3.6/dist-packages/sklearn/model_selection/_split.py:296: FutureWarning: Setting a random_state has no effect since shuffle is False. This will raise an error in 0.24. You should leave random_state to its default (None), or set shuffle=True.\n",
            "  FutureWarning\n"
          ],
          "name": "stderr"
        }
      ]
    },
    {
      "cell_type": "code",
      "metadata": {
        "id": "IN7wHfiliv3T",
        "colab_type": "code",
        "colab": {}
      },
      "source": [
        ""
      ],
      "execution_count": null,
      "outputs": []
    },
    {
      "cell_type": "code",
      "metadata": {
        "id": "RzYvivpVcffr",
        "colab_type": "code",
        "colab": {}
      },
      "source": [
        ""
      ],
      "execution_count": null,
      "outputs": []
    }
  ]
}